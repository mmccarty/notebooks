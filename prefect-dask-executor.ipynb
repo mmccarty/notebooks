{
 "cells": [
  {
   "cell_type": "code",
   "execution_count": 1,
   "metadata": {},
   "outputs": [],
   "source": [
    "from prefect import task, Flow\n",
    "import datetime\n",
    "import random\n",
    "from time import sleep\n",
    "\n",
    "\n",
    "@task\n",
    "def inc(x):\n",
    "    sleep(random.random() / 10)\n",
    "    return x + 1\n",
    "\n",
    "\n",
    "@task\n",
    "def dec(x):\n",
    "    sleep(random.random() / 10)\n",
    "    return x - 1\n",
    "\n",
    "\n",
    "@task\n",
    "def add(x, y):\n",
    "    sleep(random.random() / 10)\n",
    "    return x + y\n",
    "\n",
    "\n",
    "@task(name=\"sum\")\n",
    "def list_sum(arr):\n",
    "    return sum(arr)\n",
    "\n",
    "\n",
    "with Flow(\"dask-example\") as flow:\n",
    "    incs = inc.map(x=range(100))\n",
    "    decs = dec.map(x=range(100))\n",
    "    adds = add.map(x=incs, y=decs)\n",
    "    total = list_sum(adds)"
   ]
  },
  {
   "cell_type": "code",
   "execution_count": 3,
   "metadata": {},
   "outputs": [
    {
     "name": "stderr",
     "output_type": "stream",
     "text": [
      "[2019-08-15 23:45:02,195] INFO - prefect.FlowRunner | Beginning Flow run for 'dask-example'\n",
      "[2019-08-15 23:45:02,197] INFO - prefect.FlowRunner | Starting flow run.\n",
      "[2019-08-15 23:45:03,701] INFO - prefect.FlowRunner | Flow run SUCCESS: all reference tasks succeeded\n"
     ]
    },
    {
     "data": {
      "text/plain": [
       "<Success: \"All reference tasks succeeded.\">"
      ]
     },
     "execution_count": 3,
     "metadata": {},
     "output_type": "execute_result"
    }
   ],
   "source": [
    "from prefect.engine.executors import DaskExecutor\n",
    "\n",
    "executor = DaskExecutor(address=\"tcp://192.168.86.196:8786\")\n",
    "flow.run(executor=executor)"
   ]
  },
  {
   "cell_type": "code",
   "execution_count": null,
   "metadata": {},
   "outputs": [],
   "source": []
  },
  {
   "cell_type": "code",
   "execution_count": null,
   "metadata": {},
   "outputs": [],
   "source": []
  }
 ],
 "metadata": {
  "kernelspec": {
   "display_name": "Python 3",
   "language": "python",
   "name": "python3"
  },
  "language_info": {
   "codemirror_mode": {
    "name": "ipython",
    "version": 3
   },
   "file_extension": ".py",
   "mimetype": "text/x-python",
   "name": "python",
   "nbconvert_exporter": "python",
   "pygments_lexer": "ipython3",
   "version": "3.7.4"
  }
 },
 "nbformat": 4,
 "nbformat_minor": 2
}
