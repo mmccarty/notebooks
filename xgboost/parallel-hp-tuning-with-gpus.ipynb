{
 "cells": [
  {
   "cell_type": "code",
   "execution_count": null,
   "id": "valuable-surprise",
   "metadata": {},
   "outputs": [],
   "source": [
    "from sklearn.model_selection import train_test_split\n",
    "from sklearn.metrics import accuracy_score\n",
    "\n",
    "import numpy as np\n",
    "import pandas as pd\n",
    "import optuna\n",
    "import xgboost as xgb"
   ]
  },
  {
   "cell_type": "code",
   "execution_count": null,
   "id": "quarterly-stereo",
   "metadata": {},
   "outputs": [],
   "source": [
    "from sklearn.datasets import make_classification\n",
    "\n",
    "X, y = make_classification(\n",
    "    n_samples=500_000,\n",
    "    n_features=500,\n",
    "    weights=[0.75, 0.25],\n",
    "    flip_y=0.75,\n",
    "    random_state=123,\n",
    ")\n",
    "X.shape"
   ]
  },
  {
   "cell_type": "code",
   "execution_count": null,
   "id": "0dac12cb-29e5-4b39-b2f5-92bbfc444f21",
   "metadata": {},
   "outputs": [],
   "source": [
    "f\"{X.nbytes / 1e9} GB\""
   ]
  },
  {
   "cell_type": "code",
   "execution_count": null,
   "id": "fe31eb3c-f0ec-4a6b-b7a0-a38995fecaf7",
   "metadata": {},
   "outputs": [],
   "source": [
    "train_x, test_x, train_y, test_y = train_test_split(X, y, test_size=0.25)"
   ]
  },
  {
   "cell_type": "code",
   "execution_count": null,
   "id": "49d307cd-7d03-4c0d-96fd-8707dc09f60f",
   "metadata": {},
   "outputs": [],
   "source": [
    "bst = xgb.XGBClassifier(\n",
    "    use_label_encoder=False,\n",
    "    eval_metric='logloss',\n",
    "    n_jobs=-1)\n",
    "\n",
    "bst.fit(train_x, train_y, early_stopping_rounds=100,\n",
    "        eval_set=[(test_x, test_y)], verbose=True)\n",
    "score = bst.score(test_x, test_y)\n",
    "score"
   ]
  },
  {
   "cell_type": "code",
   "execution_count": null,
   "id": "hidden-mistake",
   "metadata": {},
   "outputs": [],
   "source": [
    "class Objective:\n",
    "    def __init__(self, X, y, split_func, use_gpus=False, num_gpus=None):\n",
    "        train_x, valid_x, train_y, valid_y = split_func(X, y, test_size=0.25)\n",
    "        self.split_func = split_func\n",
    "        \n",
    "        self.valid_x = valid_x\n",
    "        self.valid_y = valid_y\n",
    "        \n",
    "        self.obj_train_x, self.obj_test_x, self.obj_train_y, self.obj_test_y = self.split_func(\n",
    "            train_x, train_y, test_size=0.25)\n",
    "        \n",
    "        self.use_gpus = use_gpus\n",
    "        self.num_gpus = num_gpus or 1\n",
    "        self.gpu_status = [0 for _ in range(self.num_gpus)]\n",
    "        \n",
    "    def get_next_gpu(self):\n",
    "        def _find_gpu(min_stat=0):\n",
    "            next_gpu = None\n",
    "            for gpu_id, stat in enumerate(self.gpu_status):\n",
    "                if stat <= min_stat:\n",
    "                    next_gpu = gpu_id\n",
    "                    break\n",
    "            return next_gpu\n",
    "        \n",
    "        next_gpu = None\n",
    "        min_stat = 0\n",
    "        while(next_gpu is None):\n",
    "            next_gpu = _find_gpu(min_stat=min_stat + 1)\n",
    "            \n",
    "        self.gpu_status[next_gpu] += 1\n",
    "        return next_gpu\n",
    "    \n",
    "    def __call__(self, trial):\n",
    "        params = {\n",
    "            \"alpha\": trial.suggest_float(\"alpha\", 1e-8, 1.0, log=True),\n",
    "            \"max_depth\": trial.suggest_int(\"max_depth\", 1, 24),\n",
    "            \"eta\": trial.suggest_float(\"eta\", 1e-8, 1.0, log=True),\n",
    "            \"gamma\": trial.suggest_float(\"gamma\", 1e-8, 1.0, log=True),\n",
    "            \"grow_policy\": trial.suggest_categorical(\"grow_policy\", [\"depthwise\", \"lossguide\"]),\n",
    "        }\n",
    "        \n",
    "        if self.use_gpus:\n",
    "            gpu_id = self.get_next_gpu()\n",
    "            params[\"gpu_id\"] = gpu_id\n",
    "            params[\"tree_method\"] = \"gpu_hist\"\n",
    "        \n",
    "        bst = xgb.XGBClassifier(\n",
    "            use_label_encoder=False,\n",
    "            eval_metric='logloss',\n",
    "            **params)\n",
    "        \n",
    "        bst.fit(self.obj_train_x,\n",
    "                self.obj_train_y,\n",
    "                early_stopping_rounds=100,\n",
    "                eval_set=[(self.obj_test_x, self.obj_test_y)],\n",
    "                verbose=False)\n",
    "        score = bst.score(self.valid_x, self.valid_y)\n",
    "        self.gpu_status[gpu_id] -= 1\n",
    "        return score"
   ]
  },
  {
   "cell_type": "code",
   "execution_count": null,
   "id": "82ad45b5-7a5d-4977-863d-54286797e01e",
   "metadata": {},
   "outputs": [],
   "source": [
    "objective = Objective(X, y, train_test_split, use_gpus=True, num_gpus=1)\n",
    "study = optuna.create_study(direction=\"minimize\")"
   ]
  },
  {
   "cell_type": "code",
   "execution_count": null,
   "id": "narrow-american",
   "metadata": {},
   "outputs": [],
   "source": [
    "%%time\n",
    "study.optimize(objective, n_trials=6, timeout=600, n_jobs=1)"
   ]
  },
  {
   "cell_type": "code",
   "execution_count": null,
   "id": "hispanic-heaven",
   "metadata": {},
   "outputs": [],
   "source": [
    "print(\"Number of finished trials: \", len(study.trials))\n",
    "print(\"Best trial:\")\n",
    "trial = study.best_trial\n",
    "\n",
    "print(\"  Value: {}\".format(trial.value))\n",
    "print(\"  Params: \")\n",
    "for key, value in trial.params.items():\n",
    "    print(\"    {}: {}\".format(key, value))"
   ]
  },
  {
   "cell_type": "markdown",
   "id": "better-pointer",
   "metadata": {},
   "source": [
    "# More Data?Use Multi GPUs\n",
    "Only if our data fits onto a single GPU!"
   ]
  },
  {
   "cell_type": "code",
   "execution_count": null,
   "id": "2cb332bd-4603-4252-96ee-fc726ffc69b1",
   "metadata": {},
   "outputs": [],
   "source": [
    "X, y = make_classification(\n",
    "    n_samples=2_500_000,\n",
    "    n_features=500,\n",
    "    weights=[0.75, 0.25],\n",
    "    flip_y=0.75,\n",
    "    random_state=123,\n",
    ")\n",
    "X.shape"
   ]
  },
  {
   "cell_type": "code",
   "execution_count": null,
   "id": "19affff2-ff65-4daa-86b0-718c0340de52",
   "metadata": {},
   "outputs": [],
   "source": [
    "f\"{X.nbytes / 1e9} GB\""
   ]
  },
  {
   "cell_type": "code",
   "execution_count": null,
   "id": "headed-movement",
   "metadata": {},
   "outputs": [],
   "source": [
    "objective = Objective(X, y, train_test_split, use_gpus=True, num_gpus=2)\n",
    "study = optuna.create_study(direction=\"minimize\")"
   ]
  },
  {
   "cell_type": "code",
   "execution_count": null,
   "id": "demanding-latitude",
   "metadata": {},
   "outputs": [],
   "source": [
    "%%time\n",
    "study.optimize(objective, n_trials=6, timeout=600, n_jobs=6)"
   ]
  },
  {
   "cell_type": "code",
   "execution_count": null,
   "id": "crude-recipient",
   "metadata": {},
   "outputs": [],
   "source": [
    "print(\"Number of finished trials: \", len(study.trials))\n",
    "print(\"Best trial:\")\n",
    "trial = study.best_trial\n",
    "\n",
    "print(\"  Value: {}\".format(trial.value))\n",
    "print(\"  Params: \")\n",
    "for key, value in trial.params.items():\n",
    "    print(\"    {}: {}\".format(key, value))"
   ]
  },
  {
   "cell_type": "markdown",
   "id": "a424c164-e147-49a4-bece-a90707ec90be",
   "metadata": {},
   "source": [
    "# Use real data"
   ]
  },
  {
   "cell_type": "code",
   "execution_count": null,
   "id": "d1772911-df5e-4afd-a0d4-8e4b00913678",
   "metadata": {},
   "outputs": [],
   "source": [
    "import random\n",
    "import time\n",
    "from contextlib import contextmanager\n",
    "\n",
    "import cudf\n",
    "import cuml\n",
    "import numpy as np\n",
    "import optuna\n",
    "import pandas as pd\n",
    "import sklearn\n",
    "import os\n",
    "\n",
    "from cuml import LogisticRegression\n",
    "#from cuml.model_selection import train_test_split\n",
    "#from cuml.metrics import log_loss\n"
   ]
  },
  {
   "cell_type": "code",
   "execution_count": null,
   "id": "0188c6ab-e284-4023-bb8d-b6402a6a43ae",
   "metadata": {},
   "outputs": [],
   "source": [
    "import os\n",
    "\n",
    "file_name = 'train.csv' \n",
    "\n",
    "data_dir = \"data/\"\n",
    "INPUT_FILE = os.path.join(data_dir, file_name)"
   ]
  },
  {
   "cell_type": "code",
   "execution_count": null,
   "id": "95aa064b-d80c-4bc1-9d0b-d37a723a713a",
   "metadata": {},
   "outputs": [],
   "source": [
    "N_TRIALS = 150\n",
    "\n",
    "df = pd.read_csv(INPUT_FILE)\n",
    "\n",
    "# Drop non-numerical data and fill NaNs before passing to cuML RF\n",
    "CAT_COLS = list(df.select_dtypes('object').columns)\n",
    "df = df.drop(CAT_COLS, axis=1)\n",
    "df = df.fillna(0)\n",
    "\n",
    "df = df.astype(\"float32\")\n",
    "X, y = df.drop([\"target\"], axis=1), df[\"target\"].astype('int32')"
   ]
  },
  {
   "cell_type": "code",
   "execution_count": null,
   "id": "574f5e24-b0d5-4463-9019-62f91fd09374",
   "metadata": {},
   "outputs": [],
   "source": [
    "f\"{X.values.nbytes / 1e9} GB\""
   ]
  },
  {
   "cell_type": "code",
   "execution_count": null,
   "id": "7254f706-1446-4ce4-b3f4-76e4cc259143",
   "metadata": {},
   "outputs": [],
   "source": [
    "objective = Objective(X.values, y.values, train_test_split, use_gpus=True, num_gpus=2)\n",
    "study = optuna.create_study(direction=\"minimize\")"
   ]
  },
  {
   "cell_type": "code",
   "execution_count": null,
   "id": "c5bfc887-50c7-4abb-bb22-e64ac386c863",
   "metadata": {},
   "outputs": [],
   "source": [
    "%%time\n",
    "study.optimize(objective, n_trials=150, timeout=600, n_jobs=6)"
   ]
  },
  {
   "cell_type": "code",
   "execution_count": null,
   "id": "ff0d69c8-3ea1-46d4-91c1-ee6891c5e375",
   "metadata": {},
   "outputs": [],
   "source": [
    "from IPython.display import Image"
   ]
  },
  {
   "cell_type": "code",
   "execution_count": null,
   "id": "d579ceb1-1934-4d7a-9ca4-e298ec4ac8fc",
   "metadata": {},
   "outputs": [],
   "source": [
    "f = optuna.visualization.plot_param_importances(study)\n",
    "Image(f.to_image(format=\"png\", engine='kaleido'))"
   ]
  },
  {
   "cell_type": "code",
   "execution_count": null,
   "id": "24f7ab25-d280-4e9b-bb3b-4ade32d21ce1",
   "metadata": {},
   "outputs": [],
   "source": [
    "f = optuna.visualization.plot_optimization_history(study)\n",
    "Image(f.to_image(format=\"png\", engine='kaleido'))"
   ]
  },
  {
   "cell_type": "code",
   "execution_count": null,
   "id": "f3aa7eb2-de48-4f20-9bed-f106c9e71a26",
   "metadata": {},
   "outputs": [],
   "source": [
    "f = optuna.visualization.plot_parallel_coordinate(study, params=['max_depth', 'eta', 'gamma', 'grow_policy', 'alpha'])\n",
    "Image(f.to_image(format=\"png\", engine='kaleido'))"
   ]
  },
  {
   "cell_type": "code",
   "execution_count": null,
   "id": "7eb35471-836a-448f-9157-c727db0786ed",
   "metadata": {},
   "outputs": [],
   "source": []
  }
 ],
 "metadata": {
  "kernelspec": {
   "display_name": "Python 3 (ipykernel)",
   "language": "python",
   "name": "python3"
  },
  "language_info": {
   "codemirror_mode": {
    "name": "ipython",
    "version": 3
   },
   "file_extension": ".py",
   "mimetype": "text/x-python",
   "name": "python",
   "nbconvert_exporter": "python",
   "pygments_lexer": "ipython3",
   "version": "3.9.13"
  }
 },
 "nbformat": 4,
 "nbformat_minor": 5
}
